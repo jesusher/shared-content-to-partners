{
    "metadata": {
        "kernelspec": {
            "name": "SQL",
            "display_name": "SQL",
            "language": "sql"
        },
        "language_info": {
            "name": "sql",
            "version": ""
        }
    },
    "nbformat_minor": 2,
    "nbformat": 4,
    "cells": [
        {
            "cell_type": "markdown",
            "source": [
                "# SQL Notebook for SQL Server 2022 data virtualization for parquet files on Azure Data Lake Store\n",
                "\n",
                "This is a SQL notebook to show the data virtualization capabilities in SQL Server 2022 for parquet files on Azure Data Lake storage. This notebook is based on  Exercise 5.4 of the SQL Server 2022 workshop at [https://aka.ms/sql2022workshop](https:\\aka.ms\\sql2022workshop) and from a Americas GPS PSA experience."
            ],
            "metadata": {
                "azdata_cell_guid": "0bb3163d-428c-4800-91df-f230db71a27f"
            },
            "attachments": {}
        },
        {
            "cell_type": "markdown",
            "source": [
                "# Step 0 - Validate Polybase is Enabled\n",
                "\n",
                "Run the following code to validate and enable Polybase if needed. Just once."
            ],
            "metadata": {
                "azdata_cell_guid": "c432bee7-ed3e-412c-8cb7-20aa595e2de4"
            },
            "attachments": {}
        },
        {
            "cell_type": "code",
            "source": [
                "EXEC sp_configure 'polybase enabled', 1;"
            ],
            "metadata": {
                "azdata_cell_guid": "1f7e7a06-8c82-4195-96af-9eb119286ccc",
                "language": "sql"
            },
            "outputs": [],
            "execution_count": null
        },
        {
            "cell_type": "code",
            "source": [
                "RECONFIGURE;"
            ],
            "metadata": {
                "language": "sql",
                "azdata_cell_guid": "dfb3cd9b-bcfb-47ac-94c3-b171c8396602"
            },
            "outputs": [],
            "execution_count": null
        },
        {
            "cell_type": "code",
            "source": [
                "EXEC sp_configure 'allow polybase export', 1;"
            ],
            "metadata": {
                "language": "sql",
                "azdata_cell_guid": "16327bbe-0be8-4395-a1ab-6a55036c7eb9"
            },
            "outputs": [],
            "execution_count": null
        },
        {
            "cell_type": "code",
            "source": [
                "RECONFIGURE;"
            ],
            "metadata": {
                "language": "sql",
                "azdata_cell_guid": "cea547d1-e658-48f1-93a7-7baea702de77"
            },
            "outputs": [],
            "execution_count": null
        },
        {
            "cell_type": "markdown",
            "source": [
                "# Step 1 - Master Key\n",
                "\n",
                "Create a master key to protect the database scoped credential. Edit the following statement to put in a strong password"
            ],
            "metadata": {
                "language": "sql",
                "azdata_cell_guid": "be175b2a-fe0c-49ce-8907-e274b85996bc"
            },
            "attachments": {}
        },
        {
            "cell_type": "code",
            "source": [
                "USE [polytest]\r\n",
                "GO\r\n",
                "IF NOT EXISTS (SELECT * FROM sys.symmetric_keys WHERE name = '##MS_DatabaseMasterKey##')\r\n",
                "\tCREATE MASTER KEY ENCRYPTION BY PASSWORD = '<password>';\r\n",
                "GO"
            ],
            "metadata": {
                "language": "sql",
                "azdata_cell_guid": "aae93cfe-332d-4255-8af3-14c6cd7a8dee",
                "tags": []
            },
            "outputs": [],
            "execution_count": null
        },
        {
            "cell_type": "markdown",
            "source": [
                "# Step 2 - Database Scoped Credential\n",
                "\n",
                "Create a database scoped credential. Edit the following statement to put in the Shared Access Signature from the Azure Storage Account. Remember that is SAS key has an experition day and should have the minimun access level required."
            ],
            "metadata": {
                "language": "sql",
                "azdata_cell_guid": "6c120a5b-2c56-456e-b7e6-f588adc63a70"
            },
            "attachments": {}
        },
        {
            "cell_type": "code",
            "source": [
                "USE [polytest];\r\n",
                "GO\r\n",
                "-- Have to drop the data source first if it exists\r\n",
                "IF EXISTS (SELECT * FROM sys.external_data_sources WHERE name = 'AzureStorage')\r\n",
                "\tDROP EXTERNAL DATA SOURCE AzureStorage;\r\n",
                "IF EXISTS (SELECT * FROM sys.database_scoped_credentials WHERE name = 'AzureStorageCredential')\r\n",
                "    DROP DATABASE SCOPED CREDENTIAL AzureStorageCredential;\r\n",
                "GO\r\n",
                "CREATE DATABASE SCOPED CREDENTIAL AzureStorageCredential\r\n",
                "WITH IDENTITY = 'SHARED ACCESS SIGNATURE',\r\n",
                "SECRET = '<SAS Key starting with \"sv=\">';\r\n",
                "GO"
            ],
            "metadata": {
                "language": "sql",
                "azdata_cell_guid": "790907e4-e779-42cb-86ef-a1e3e4603f5b",
                "tags": []
            },
            "outputs": [],
            "execution_count": null
        },
        {
            "cell_type": "markdown",
            "source": [
                "# Step 3 - External Data Source\n",
                "\n",
                "Create an external data source. Edit the script to put your Azure Storage Account (Data Lake) end point. Use \"abs\" end point. No type is needed on this case."
            ],
            "metadata": {
                "language": "sql",
                "azdata_cell_guid": "63a15819-328e-49c9-8ad5-6a8aa383e948"
            },
            "attachments": {}
        },
        {
            "cell_type": "code",
            "source": [
                "USE [polytest];\r\n",
                "GO\r\n",
                "IF EXISTS (SELECT * FROM sys.external_data_sources WHERE name = 'AzureStorage')\r\n",
                "\tDROP EXTERNAL DATA SOURCE AzureStorage;\r\n",
                "GO\r\n",
                "CREATE EXTERNAL DATA SOURCE AzureStorage\r\n",
                "WITH\r\n",
                "(\r\n",
                "      LOCATION ='abs://<container>@<storage account name>.blob.core.windows.net',  \r\n",
                "      CREDENTIAL = AzureStorageCredential \r\n",
                "\t  --, TYPE = HADOOP\r\n",
                ");\r\n",
                "GO"
            ],
            "metadata": {
                "language": "sql",
                "azdata_cell_guid": "539fbad0-b1d7-488c-bab2-2cda2dd4e505"
            },
            "outputs": [],
            "execution_count": null
        },
        {
            "cell_type": "markdown",
            "source": [
                "# Step 4 - External file format - optional, only if you will create External Tables\n",
                "\n",
                "Create an external format file for parquet to be used for external tables"
            ],
            "metadata": {
                "language": "sql",
                "azdata_cell_guid": "6dbd063d-3ff8-4ca5-9919-f9947daa2b0e"
            },
            "attachments": {}
        },
        {
            "cell_type": "code",
            "source": [
                "USE [polytest];\r\n",
                "GO\r\n",
                "IF EXISTS (SELECT * FROM sys.external_file_formats WHERE name = 'ParquetFileFormat')\r\n",
                "\tDROP EXTERNAL FILE FORMAT ParquetFileFormat;\r\n",
                "CREATE EXTERNAL FILE FORMAT ParquetFileFormat WITH(FORMAT_TYPE = PARQUET);\r\n",
                "GO"
            ],
            "metadata": {
                "language": "sql",
                "azdata_cell_guid": "2f242667-a728-4c32-9ffc-74d0c7ea9a75"
            },
            "outputs": [],
            "execution_count": null
        },
        {
            "cell_type": "markdown",
            "source": [
                "# Step 5 - Use OPENROWSET() to query parquet files\n",
                "\n",
                "Execute the following T-SQL to query parquet files stored in ADLS to test that all the configuraion variables are working. On the BULK paramenter add the path to where the PARQUET files are located."
            ],
            "metadata": {
                "language": "sql",
                "azdata_cell_guid": "9c78093b-929d-490f-90ba-72467aaf79d2"
            },
            "attachments": {}
        },
        {
            "cell_type": "code",
            "source": [
                "USE [polytest];\r\n",
                "GO\r\n",
                "SELECT top 10 *\r\n",
                "FROM OPENROWSET\r\n",
                "\t(BULK '<rute to where the parquet files are located ej \"/wwi/factsale\">'\r\n",
                "\t, FORMAT = 'PARQUET'\r\n",
                "\t, DATA_SOURCE = 'AzureStorage')\r\n",
                "as [wwi_sales];\r\n",
                "GO"
            ],
            "metadata": {
                "language": "sql",
                "azdata_cell_guid": "568c6980-87f1-498e-a284-e6abfcff1dd7"
            },
            "outputs": [],
            "execution_count": null
        },
        {
            "cell_type": "markdown",
            "source": [
                "# Step 6 - Create a View\n",
                "\n",
                "Execute the following T-SQL to create a view based on a <span style=\"color: var(--vscode-foreground);\">query to parquet file</span>"
            ],
            "metadata": {
                "language": "sql",
                "azdata_cell_guid": "ec498f55-8df6-4047-904a-eb0b4a92be0d"
            },
            "attachments": {}
        },
        {
            "cell_type": "code",
            "source": [
                "USE [polytest];\r\n",
                "GO\r\n",
                "CREATE VIEW <view name to create> AS \r\n",
                "SELECT *\r\n",
                "FROM OPENROWSET\r\n",
                "\t(BULK '<rute to where the parquet files are located ej \"/wwi/factsale\">'\r\n",
                "\t, FORMAT = 'PARQUET'\r\n",
                "\t, DATA_SOURCE = 'AzureStorage')\r\n",
                "as [wwi_sales];\r\n",
                "GO"
            ],
            "metadata": {
                "language": "sql",
                "azdata_cell_guid": "a52caae7-03b1-4160-a763-5f8334dc7f10"
            },
            "outputs": [],
            "execution_count": null
        },
        {
            "cell_type": "markdown",
            "source": [
                "# Step 7 - Create an external table if you need a sub set of columns from the entire parquet on a table\n",
                "\n",
                "Execute the following T-SQL to create an external table based on a parquet file with a subset of columns"
            ],
            "metadata": {
                "language": "sql",
                "azdata_cell_guid": "8e3efbb1-4cbf-41f2-9477-dbada733333e"
            },
            "attachments": {}
        },
        {
            "cell_type": "code",
            "source": [
                "USE [polytest];\r\n",
                "GO\r\n",
                "IF OBJECT_ID('wwi_sales_table', 'U') IS NOT NULL\r\n",
                "\tDROP EXTERNAL TABLE wwi_sales_table;\r\n",
                "GO\r\n",
                "CREATE EXTERNAL TABLE wwi_sales_table \r\n",
                "( \r\n",
                "\tSaleKey VARCHAR(8), \r\n",
                "\tCustomerKey VARCHAR(8),\r\n",
                "\tStockItemKey VARCHAR(8),\r\n",
                "\tDeliveryDateKey VARCHAR(12),\r\n",
                "\tProfit decimal(18,2)\r\n",
                ")\r\n",
                "WITH \r\n",
                "(\r\n",
                "\tLOCATION = '/wwi/factsale-parquet2'\r\n",
                "    , FILE_FORMAT = ParquetFileFormat\r\n",
                "    , DATA_SOURCE = AzureStorage\r\n",
                ");\r\n",
                "GO\r\n",
                "SELECT top 10 * FROM wwi_sales_table;\r\n",
                "GO"
            ],
            "metadata": {
                "language": "sql",
                "azdata_cell_guid": "c465d6d3-274a-4804-8252-4d6aaa5ebd05"
            },
            "outputs": [],
            "execution_count": null
        },
        {
            "cell_type": "code",
            "source": [
                "CREATE CLUSTERED COLUMNSTORE INDEX sales_index\r\n",
                "ON wwi_sales_table;"
            ],
            "metadata": {
                "language": "sql",
                "azdata_cell_guid": "5be9fb0e-25a1-4106-b85a-668ef27279e6"
            },
            "outputs": [],
            "execution_count": null
        },
        {
            "cell_type": "code",
            "source": [
                "CREATE STATISTICS MyStats ON wwi_sales_table (CustomerKey);"
            ],
            "metadata": {
                "language": "sql",
                "azdata_cell_guid": "01846973-6f3b-41fe-9099-ab9b38bc8da8"
            },
            "outputs": [],
            "execution_count": null
        },
        {
            "cell_type": "markdown",
            "source": [
                "# Step 8 - Create statistics on an external table\n",
                "\n",
                "Execute the following T-SQL to create statistics on an external table"
            ],
            "metadata": {
                "language": "sql",
                "azdata_cell_guid": "2a26b38a-032c-4829-985f-3ea30a1b1299"
            },
            "attachments": {}
        },
        {
            "cell_type": "code",
            "source": [
                "USE [polytest];\r\n",
                "GO\r\n",
                "CREATE STATISTICS wwi_ctb_stats ON wwi_customer_transactions_base (CustomerID) WITH FULLSCAN;\r\n",
                "GO"
            ],
            "metadata": {
                "language": "sql",
                "azdata_cell_guid": "2b18f791-edbb-4f14-9718-8be0a5f2797a"
            },
            "outputs": [],
            "execution_count": null
        },
        {
            "cell_type": "markdown",
            "source": [
                "# Step 9 - Explorer data virtualization metadata\n",
                "\n",
                "Execute the following T-SQL statements to explore data virtualization metadata"
            ],
            "metadata": {
                "language": "sql",
                "azdata_cell_guid": "f940437a-cd40-4fd6-9112-ef5b3e7ba81e"
            },
            "attachments": {}
        },
        {
            "cell_type": "code",
            "source": [
                "USE [polytest];\r\n",
                "GO\r\n",
                "SELECT * FROM sys.external_data_sources;\r\n",
                "GO\r\n",
                "SELECT * FROM sys.external_file_formats;\r\n",
                "GO\r\n",
                "SELECT * FROM sys.external_tables;\r\n",
                "GO"
            ],
            "metadata": {
                "language": "sql",
                "azdata_cell_guid": "6701970c-3604-4c75-908a-486049f496f5"
            },
            "outputs": [],
            "execution_count": null
        },
        {
            "cell_type": "markdown",
            "source": [
                "# Step 11 - Explore parquet file metadata\n",
                "\n",
                "Execute the following T-SQL statement to explore metadata about columns in the parquet file"
            ],
            "metadata": {
                "language": "sql",
                "azdata_cell_guid": "8fe07d29-d930-4118-8343-d8b66c738d35"
            },
            "attachments": {}
        },
        {
            "cell_type": "code",
            "source": [
                "USE [polytest];\r\n",
                "GO\r\n",
                "EXEC sp_describe_first_result_set N'\r\n",
                "SELECT *\r\n",
                "FROM OPENROWSET\r\n",
                "\t(BULK '<rute to where the parquet files are located ej \"/wwi/factsale\">'\r\n",
                "\t, FORMAT = 'PARQUET'\r\n",
                "\t, DATA_SOURCE = 'AzureStorage')\r\n",
                "as [wwi_sales;';\r\n",
                "GO"
            ],
            "metadata": {
                "language": "sql",
                "azdata_cell_guid": "edd4fa61-414b-4075-a6cc-fff468cf5d9d"
            },
            "outputs": [],
            "execution_count": null
        },
        {
            "cell_type": "markdown",
            "source": [
                "# Step 12 - Explore file metadata\n",
                "\n",
                "Execute the following T-SQL statement to explore metadata from the external table about the source parquet files"
            ],
            "metadata": {
                "language": "sql",
                "azdata_cell_guid": "b63870bc-943b-42f8-91c6-f9efe3715db5"
            },
            "attachments": {}
        },
        {
            "cell_type": "code",
            "source": [
                "USE [polytest];\r\n",
                "GO\r\n",
                "SELECT TOP 1 wwi_customer_transactions_file.filepath(), \r\n",
                "wwi_customer_transactions_file.filename()\r\n",
                "FROM OPENROWSET\r\n",
                "\t(BULK '/wwi/'\r\n",
                "\t, FORMAT = 'PARQUET'\r\n",
                "\t, DATA_SOURCE = 'AzureStorage')\r\n",
                "as [wwi_customer_transactions_file];\r\n",
                "GO"
            ],
            "metadata": {
                "language": "sql",
                "azdata_cell_guid": "c4892625-da37-4ce2-a83c-3c28488e0e6e"
            },
            "outputs": [],
            "execution_count": null
        }
    ]
}